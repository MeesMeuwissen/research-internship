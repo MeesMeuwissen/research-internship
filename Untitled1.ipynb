{
 "cells": [
  {
   "cell_type": "code",
   "execution_count": 22,
   "id": "18631b39",
   "metadata": {},
   "outputs": [
    {
     "name": "stdout",
     "output_type": "stream",
     "text": [
      "a b c\n",
      "\n",
      "nu volgnde regels:\n",
      "['Nog een testhaha']\n",
      "een\n"
     ]
    }
   ],
   "source": [
    "drn_path_statespace = 'testervoorwrite'\n",
    "\n",
    "statespace = ['a b c', 'Nog een testhaha']\n",
    "\n",
    "with open(r'{}'.format(drn_path_statespace), 'w') as fp:\n",
    "        fp.write('\\n'.join(statespace))\n",
    "        \n",
    "\n",
    "f = open(r'{}'.format(drn_path_statespace), 'r')\n",
    "\n",
    "line1 = f.readline()\n",
    "print(line1)\n",
    "print(\"nu volgnde regels:\")\n",
    "lines = f.readlines()\n",
    "\n",
    "print(lines)\n",
    "\n",
    "for line in lines:\n",
    "    x,y,z = line.split(\" \")\n",
    "    print(y)"
   ]
  },
  {
   "cell_type": "code",
   "execution_count": 53,
   "id": "827e3624",
   "metadata": {},
   "outputs": [
    {
     "name": "stdout",
     "output_type": "stream",
     "text": [
      "{(1, 2): 1, (1, 3): 1}\n",
      "2\n",
      "3\n"
     ]
    }
   ],
   "source": [
    "#Dict test\n",
    "\n",
    "state_dict = {}\n",
    "\n",
    "state_dict[(1,2)] = 1\n",
    "state_dict[(1,3)] = 1\n",
    "\n",
    "print(state_dict)\n",
    "\n",
    "for (x,y), value in state_dict.items():\n",
    "    if (x,y+1) in state_dict.keys():\n",
    "        print(y)\n",
    "        print(x + 2)\n"
   ]
  },
  {
   "cell_type": "code",
   "execution_count": 39,
   "id": "44f71e64",
   "metadata": {},
   "outputs": [
    {
     "data": {
      "text/plain": [
       "2"
      ]
     },
     "execution_count": 39,
     "metadata": {},
     "output_type": "execute_result"
    }
   ],
   "source": [
    "(1,2)[1]"
   ]
  }
 ],
 "metadata": {
  "kernelspec": {
   "display_name": "Python 3 (ipykernel)",
   "language": "python",
   "name": "python3"
  },
  "language_info": {
   "codemirror_mode": {
    "name": "ipython",
    "version": 3
   },
   "file_extension": ".py",
   "mimetype": "text/x-python",
   "name": "python",
   "nbconvert_exporter": "python",
   "pygments_lexer": "ipython3",
   "version": "3.10.7"
  }
 },
 "nbformat": 4,
 "nbformat_minor": 5
}
